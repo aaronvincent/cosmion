{
 "cells": [
  {
   "cell_type": "code",
   "execution_count": null,
   "metadata": {},
   "outputs": [],
   "source": [
    "#This takes in the file you generated with the example processing script, and creates some plots.\n",
    "#if you want to compare with analytical predictions, you can use e.g. \n",
    "#Captn' General https://github.com/aaronvincent/captngen\n",
    "\n",
    "import numpy as np\n",
    "import matplotlib.pyplot as plt\n"
   ]
  },
  {
   "cell_type": "code",
   "execution_count": null,
   "metadata": {},
   "outputs": [],
   "source": [
    "# Font and LaTeX formatting for figures, can be commented out if it causes issues.\n",
    "plt.rc('text.latex', preamble=r'\\usepackage{amsmath}')\n",
    "plt.rcParams[\"font.size\"] = 20\n",
    "plt.rcParams[\"text.usetex\"] = True\n",
    "plt.rcParams[\"font.family\"] = \"serif\""
   ]
  },
  {
   "cell_type": "code",
   "execution_count": null,
   "metadata": {},
   "outputs": [],
   "source": [
    "filename = 'transportsReduced.dat' # name of the reduced data file\n",
    "\n",
    "data = np.loadtxt(filename)\n",
    "bins = data[0] # radial bins\n",
    "dLdr = data[1] # energy transport for each radial bin\n",
    "err_dLdr = data[2] # error on energy transport\n",
    "L = data[3] # luminosity for each radial bin\n",
    "err_L = data[4] # error on luminosity\n",
    "\n",
    "# make array for the radial bin centres rather than the right edges of bins\n",
    "bins_mid = bins[1:] - (bins[1:]-bins[:-1])/2.\n",
    "bins_mid = np.insert(bins_mid,0,0.)"
   ]
  },
  {
   "cell_type": "code",
   "execution_count": null,
   "metadata": {},
   "outputs": [],
   "source": [
    "plt.figure(figsize=(9,7))\n",
    "plt.xlabel(\"Radius ($R_{\\star}$)\",size=22)\n",
    "plt.ylabel(\"Dark Matter Luminosity, $|L(r)|$ (erg s$^{-1}$)\",size=22)\n",
    "plt.errorbar(bins,L,err_L,fmt='.',capsize=3) # plot the luminosity\n",
    "plt.xlim(0,0.21) # limit the x-axis to relevant radius\n",
    "#plt.savefig('luminosity.jpg') # save the figure\n",
    "plt.show()"
   ]
  },
  {
   "cell_type": "code",
   "execution_count": null,
   "metadata": {},
   "outputs": [],
   "source": [
    "plt.figure(figsize=(9,7))\n",
    "plt.xlabel(\"Radius ($R_{\\star}$)\",size=22)\n",
    "plt.ylabel(\"$dL/dr$ (erg cm$^{-1}$ s$^{-1}$)\",size=22)\n",
    "plt.errorbar(bins_mid,dLdr,err_dLdr,fmt='.',capsize=3) # plot the energy transport\n",
    "plt.xlim(0,0.21) # limit the x-axis to relevant radius\n",
    "#plt.savefig('energy.jpg') # save the figure\n",
    "plt.show()"
   ]
  }
 ],
 "metadata": {
  "kernelspec": {
   "display_name": "Python 3.10.4 64-bit",
   "language": "python",
   "name": "python3"
  },
  "language_info": {
   "codemirror_mode": {
    "name": "ipython",
    "version": 3
   },
   "file_extension": ".py",
   "mimetype": "text/x-python",
   "name": "python",
   "nbconvert_exporter": "python",
   "pygments_lexer": "ipython3",
   "version": "3.10.4"
  },
  "orig_nbformat": 4,
  "vscode": {
   "interpreter": {
    "hash": "cdd283f903e465d9ed7feba5317d294ff02d0d50270105dbb772246178790984"
   }
  }
 },
 "nbformat": 4,
 "nbformat_minor": 2
}
