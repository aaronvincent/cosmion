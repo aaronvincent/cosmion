{
 "cells": [
  {
   "cell_type": "code",
   "execution_count": null,
   "metadata": {},
   "outputs": [],
   "source": [
    "import numpy as np\n",
    "import matplotlib.pyplot as plt\n",
    "from mpl_toolkits import mplot3d"
   ]
  },
  {
   "cell_type": "code",
   "execution_count": null,
   "metadata": {},
   "outputs": [],
   "source": [
    "starR = 69.57e9 # cm"
   ]
  },
  {
   "cell_type": "code",
   "execution_count": null,
   "metadata": {},
   "outputs": [],
   "source": [
    "data = np.genfromtxt('positions.dat')\n",
    "\n",
    "x1 = data[:,0]\n",
    "x2 = data[:,1]\n",
    "x3 = data[:,2]\n",
    "vin1 = data[:,3]\n",
    "vin2 = data[:,4]\n",
    "vin3 = data[:,5]\n",
    "vout1 = data[:,6]\n",
    "vout2 = data[:,7]\n",
    "vout3 = data[:,8]\n",
    "dt = data[:,9]\n",
    "\n",
    "r = np.sqrt(x1**2 + x2**2 + x3**2) # scalar radius in cm\n",
    "vin = np.sqrt(vin1**2 + vin2**2 + vin3**2) # speed into collision in cm/s\n",
    "vout = np.sqrt(vout1**2 + vout2**2 + vout3**2) # speed out of collision in cm/s\n",
    "\n",
    "t = [0] # time since spawn in s\n",
    "for i in range(len(dt)):\n",
    "    t.append(t[i]+dt[i])\n",
    "del t[0]\n",
    "\n",
    "fracR = r / starR\n",
    "x1R = x1 / starR\n",
    "x2R = x2 / starR\n",
    "x3R = x3 / starR"
   ]
  },
  {
   "cell_type": "code",
   "execution_count": null,
   "metadata": {},
   "outputs": [],
   "source": [
    "fig = plt.figure(figsize=(12,8))\n",
    "plt.title(\"Radius vs Time\",size=16)\n",
    "plt.xlabel(\"Time (s)\",size=14)\n",
    "plt.ylabel(\"Radius ($R_{\\odot}$)\",size=14)\n",
    "plt.plot(t,fracR)\n",
    "plt.show()"
   ]
  },
  {
   "cell_type": "code",
   "execution_count": null,
   "metadata": {},
   "outputs": [],
   "source": [
    "fig = plt.figure(figsize=(12,8))\n",
    "ax = plt.axes(projection='3d')\n",
    "ax.scatter(x1, x2, x3, c=x3, cmap='viridis', linewidth=0.2)\n",
    "ax.set_title(\"Locations of Collisions\",size=16)\n",
    "ax.set_xlabel(\"$x_1$ $(R_{\\odot})$\",size=14)\n",
    "ax.set_ylabel(\"$x_2$ $(R_{\\odot})$\",size=14)\n",
    "ax.set_zlabel(\"$x_3$ $(R_{\\odot})$\",size=14)\n",
    "plt.show()"
   ]
  }
 ],
 "metadata": {
  "interpreter": {
   "hash": "41fd0a0b029d55d519366ed464032194dca7a1c933546d18a3bb14c0a9c50f87"
  },
  "kernelspec": {
   "display_name": "Python 3.10.4 64-bit",
   "language": "python",
   "name": "python3"
  },
  "language_info": {
   "codemirror_mode": {
    "name": "ipython",
    "version": 3
   },
   "file_extension": ".py",
   "mimetype": "text/x-python",
   "name": "python",
   "nbconvert_exporter": "python",
   "pygments_lexer": "ipython3",
   "version": "3.10.4"
  },
  "orig_nbformat": 4
 },
 "nbformat": 4,
 "nbformat_minor": 2
}
